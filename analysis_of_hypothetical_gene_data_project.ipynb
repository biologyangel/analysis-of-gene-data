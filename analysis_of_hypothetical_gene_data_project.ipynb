{
 "cells": [
  {
   "cell_type": "code",
   "execution_count": 2,
   "id": "7df5058a-6ba4-4a3c-a047-bb64acfdae97",
   "metadata": {},
   "outputs": [],
   "source": [
    "#Goal: To utilize for loops, if/else, variables, basic operations to perform simple analyses on a small, hardcoded set of hypothetical biological data.\n",
    "#Data: Will use a list of numbers representing hypothetical gene lengths (in base pairs). "
   ]
  },
  {
   "cell_type": "code",
   "execution_count": 3,
   "id": "45d4279b-8b7c-46b2-9a6c-eada34e456f2",
   "metadata": {},
   "outputs": [
    {
     "name": "stdout",
     "output_type": "stream",
     "text": [
      "[550, 1200, 350, 800, 2100, 400, 1500, 700, 950, 1800]\n"
     ]
    }
   ],
   "source": [
    "gene_lengths = [550, 1200, 350, 800, 2100, 400, 1500, 700, 950, 1800]\n",
    "print(gene_lengths)"
   ]
  },
  {
   "cell_type": "code",
   "execution_count": 6,
   "id": "d3cd2c8e-0909-4681-9dbf-b08cc3086444",
   "metadata": {},
   "outputs": [
    {
     "name": "stdout",
     "output_type": "stream",
     "text": [
      "550\n",
      "1200\n",
      "350\n",
      "800\n",
      "2100\n",
      "400\n",
      "1500\n",
      "700\n",
      "950\n",
      "1800\n"
     ]
    }
   ],
   "source": [
    "for length in gene_lengths:\n",
    "    print(length)"
   ]
  },
  {
   "cell_type": "code",
   "execution_count": 19,
   "id": "dbe2a697-cdaa-4173-8aa9-1b73ba06d595",
   "metadata": {},
   "outputs": [
    {
     "name": "stdout",
     "output_type": "stream",
     "text": [
      "Checking gene lengths: 550\n",
      "Checking gene lengths: 1200\n",
      "Gene length is above 1000.\n",
      "Checking gene lengths: 350\n",
      "Checking gene lengths: 800\n",
      "Checking gene lengths: 2100\n",
      "Gene length is above 1000.\n",
      "Checking gene lengths: 400\n",
      "Checking gene lengths: 1500\n",
      "Gene length is above 1000.\n",
      "Checking gene lengths: 700\n",
      "Checking gene lengths: 950\n",
      "Checking gene lengths: 1800\n",
      "Gene length is above 1000.\n"
     ]
    }
   ],
   "source": [
    "for length in gene_lengths: \n",
    "    print(f'Checking gene lengths: {length}') #length because it is the variable that hold the indexes in the list\n",
    "    if length>1000: #length because python already defined each index in list as 'length'\n",
    "        print('Gene length is above 1000.')"
   ]
  },
  {
   "cell_type": "code",
   "execution_count": 41,
   "id": "526c16c2-58a9-48fb-b79a-a46d3a999e8a",
   "metadata": {},
   "outputs": [
    {
     "name": "stdout",
     "output_type": "stream",
     "text": [
      "Original gene lengths list: [550, 1200, 350, 800, 2100, 400, 1500, 700, 950, 1800]\n",
      "\n",
      "Checking gene lengths: 550\n",
      "Checking gene lengths: 1200\n",
      "Gene length is above 1000.\n",
      "Specifically, length 1200 was found at index 1.\n",
      "\n",
      "Checking gene lengths: 350\n",
      "Checking gene lengths: 800\n",
      "Checking gene lengths: 2100\n",
      "Gene length is above 1000.\n",
      "Specifically, length 2100 was found at index 4.\n",
      "\n",
      "Checking gene lengths: 400\n",
      "Checking gene lengths: 1500\n",
      "Gene length is above 1000.\n",
      "Specifically, length 1500 was found at index 6.\n",
      "\n",
      "Checking gene lengths: 700\n",
      "Checking gene lengths: 950\n",
      "Checking gene lengths: 1800\n",
      "Gene length is above 1000.\n",
      "Specifically, length 1800 was found at index 9.\n",
      "\n",
      "\n",
      "Total gene length: 10350\n",
      "All gene lengths contributing to total: [550, 1200, 350, 800, 2100, 400, 1500, 700, 950, 1800]\n",
      "\n",
      "Number of long genes: 4\n",
      "List of long gene lengths (>1000 bp): [1200, 2100, 1500, 1800]\n"
     ]
    }
   ],
   "source": [
    "total_length = 0 #this variable will hold the total sum of all gene lengths\n",
    "long_gene_count = 0 #this variable will count how many genes are in 1000 bp\n",
    "long_genes_list = []\n",
    "\n",
    "print(f\"Original gene lengths list: {gene_lengths}\\n\")\n",
    "for index, length in enumerate(gene_lengths): #previously: for length in gene_lengths: \n",
    "    print(f'Checking gene lengths: {length}') \n",
    "    if length>1000: \n",
    "        print('Gene length is above 1000.')\n",
    "        #print(f'Specifically, {length}.')\n",
    "        long_gene_count += 1\n",
    "        long_genes_list.append(length)\n",
    "        print(f'Specifically, length {length} was found at index {index}.')\n",
    "        print()\n",
    "    total_length += length\n",
    "print(f'\\nTotal gene length: {total_length}') \n",
    "print(f\"All gene lengths contributing to total: {gene_lengths}\\n\")\n",
    "print(f'Number of long genes: {long_gene_count}') \n",
    "print(f\"List of long gene lengths (>1000 bp): {long_genes_list}\")\n",
    "\n",
    "    "
   ]
  },
  {
   "cell_type": "code",
   "execution_count": null,
   "id": "e5313e98-076d-4855-b2c1-ff5ec5c552cc",
   "metadata": {},
   "outputs": [],
   "source": []
  }
 ],
 "metadata": {
  "kernelspec": {
   "display_name": "Python 3 (ipykernel)",
   "language": "python",
   "name": "python3"
  },
  "language_info": {
   "codemirror_mode": {
    "name": "ipython",
    "version": 3
   },
   "file_extension": ".py",
   "mimetype": "text/x-python",
   "name": "python",
   "nbconvert_exporter": "python",
   "pygments_lexer": "ipython3",
   "version": "3.9.21"
  }
 },
 "nbformat": 4,
 "nbformat_minor": 5
}
